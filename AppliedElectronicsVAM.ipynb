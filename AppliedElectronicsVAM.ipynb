{
 "cells": [
  {
   "cell_type": "code",
   "execution_count": 1,
   "id": "dc0d88fe",
   "metadata": {
    "executionInfo": {
     "elapsed": 6,
     "status": "ok",
     "timestamp": 1643591903753,
     "user": {
      "displayName": "Kenny Lee",
      "photoUrl": "https://lh3.googleusercontent.com/a-/AOh14GgNabW3-ohUeW38s6sdmGhRyGH-xwMSApS2t2hv=s64",
      "userId": "17157037697518270092"
     },
     "user_tz": 300
    },
    "id": "dc0d88fe"
   },
   "outputs": [],
   "source": [
    "import numpy as np\n",
    "import pandas as pd\n",
    "import random\n",
    "import warnings\n",
    "warnings.filterwarnings(\"ignore\")"
   ]
  },
  {
   "cell_type": "code",
   "execution_count": 2,
   "id": "97cc503c",
   "metadata": {
    "executionInfo": {
     "elapsed": 4,
     "status": "ok",
     "timestamp": 1643591903753,
     "user": {
      "displayName": "Kenny Lee",
      "photoUrl": "https://lh3.googleusercontent.com/a-/AOh14GgNabW3-ohUeW38s6sdmGhRyGH-xwMSApS2t2hv=s64",
      "userId": "17157037697518270092"
     },
     "user_tz": 300
    },
    "id": "97cc503c"
   },
   "outputs": [],
   "source": [
    "stock = np.array([22.0, 3.7, 4.5, 47.0, 18.5, 5.0])\n",
    "demand = np.array([3.0, 2.6, 16.0, 20.0, 26.4, 11.9])\n",
    "cost = np.matrix('92.63, 93.25, 112.31, 73.34, 89.15, 149.24')\n",
    "duty = np.matrix('0, 0, 0.5, 0.095, 0.045, 0.06; 0.6, 0, 0.5, 0.095, 0.045, 0.06;\\\n",
    "0.6, 0, 0, 0.095, 0.045, 0.06; 0.6, 0, 0.5, 0, 0.045, 0.06;\\\n",
    "0.6, 0, 0.5, 0.095, 0, 0.06; 0.6, 0, 0.5, 0.095, 0.045, 0')\n",
    "shipping = np.matrix('0 11.4 7 11 11 14; 11 0 9 11.5 6 13; 7 10 0 13 10.4 14.3;\\\n",
    "10 11.5 12.5 0 11.2 13.3; 10 6 11 10 0 12.5; 14 13 12.5 14.2 13 0')\n",
    "plan = np.matrix('3 0 0 0 12.4 1.8;0 2.6 0 0 0 0; 0 0 4.1 0 0 0; 0 0 11.9 20 0 6.1;\\\n",
    "0 0 0 0 14 0; 0 0 0 0 0 4')"
   ]
  },
  {
   "cell_type": "code",
   "execution_count": 4,
   "id": "6a5b3878",
   "metadata": {
    "colab": {
     "base_uri": "https://localhost:8080/"
    },
    "executionInfo": {
     "elapsed": 174,
     "status": "ok",
     "timestamp": 1643591942945,
     "user": {
      "displayName": "Kenny Lee",
      "photoUrl": "https://lh3.googleusercontent.com/a-/AOh14GgNabW3-ohUeW38s6sdmGhRyGH-xwMSApS2t2hv=s64",
      "userId": "17157037697518270092"
     },
     "user_tz": 300
    },
    "id": "6a5b3878",
    "outputId": "c08eef29-d3f2-458b-eacd-a84c47f3bf56"
   },
   "outputs": [
    {
     "name": "stdout",
     "output_type": "stream",
     "text": [
      "Stock:\n",
      "[22.   3.7  4.5 47.  18.5  5. ]\n"
     ]
    }
   ],
   "source": [
    "print(\"Stock:\")\n",
    "print(stock)"
   ]
  },
  {
   "cell_type": "code",
   "execution_count": 5,
   "id": "fa6f4b6c",
   "metadata": {
    "colab": {
     "base_uri": "https://localhost:8080/"
    },
    "executionInfo": {
     "elapsed": 233,
     "status": "ok",
     "timestamp": 1643591945281,
     "user": {
      "displayName": "Kenny Lee",
      "photoUrl": "https://lh3.googleusercontent.com/a-/AOh14GgNabW3-ohUeW38s6sdmGhRyGH-xwMSApS2t2hv=s64",
      "userId": "17157037697518270092"
     },
     "user_tz": 300
    },
    "id": "fa6f4b6c",
    "outputId": "ae6a5feb-d78f-4993-cd86-821f717a67bb"
   },
   "outputs": [
    {
     "name": "stdout",
     "output_type": "stream",
     "text": [
      "Demand:\n",
      "[ 3.   2.6 16.  20.  26.4 11.9]\n"
     ]
    }
   ],
   "source": [
    "print(\"Demand:\")\n",
    "print(demand)"
   ]
  },
  {
   "cell_type": "code",
   "execution_count": 6,
   "id": "df9293fe",
   "metadata": {
    "colab": {
     "base_uri": "https://localhost:8080/"
    },
    "executionInfo": {
     "elapsed": 452,
     "status": "ok",
     "timestamp": 1643591950378,
     "user": {
      "displayName": "Kenny Lee",
      "photoUrl": "https://lh3.googleusercontent.com/a-/AOh14GgNabW3-ohUeW38s6sdmGhRyGH-xwMSApS2t2hv=s64",
      "userId": "17157037697518270092"
     },
     "user_tz": 300
    },
    "id": "df9293fe",
    "outputId": "23ae0189-66f8-4985-ea1b-ce44046175e0"
   },
   "outputs": [
    {
     "name": "stdout",
     "output_type": "stream",
     "text": [
      "C matrix:\n",
      "[[ 92.63    104.03    145.945   112.42985 107.79835 112.1878 ]\n",
      " [160.2      93.25    148.875   113.60875 103.44625 111.845  ]\n",
      " [186.696   122.31    112.31    135.97945 127.76395 133.3486 ]\n",
      " [127.344    84.84    122.51     73.34     87.8403   91.0404 ]\n",
      " [152.64     95.15    144.725   107.61925  89.15    106.999  ]\n",
      " [252.784   162.24    236.36    177.6178  168.9558  149.24   ]]\n"
     ]
    }
   ],
   "source": [
    "c = np.multiply((1+duty), cost.T) + shipping\n",
    "print(\"C matrix:\")\n",
    "print(c)"
   ]
  },
  {
   "cell_type": "markdown",
   "id": "GKh-qDGPzP30",
   "metadata": {
    "id": "GKh-qDGPzP30"
   },
   "source": [
    "## Project Plan:"
   ]
  },
  {
   "cell_type": "code",
   "execution_count": 6,
   "id": "7x3XW8IzzOb4",
   "metadata": {
    "colab": {
     "base_uri": "https://localhost:8080/"
    },
    "executionInfo": {
     "elapsed": 356,
     "status": "ok",
     "timestamp": 1643591967779,
     "user": {
      "displayName": "Kenny Lee",
      "photoUrl": "https://lh3.googleusercontent.com/a-/AOh14GgNabW3-ohUeW38s6sdmGhRyGH-xwMSApS2t2hv=s64",
      "userId": "17157037697518270092"
     },
     "user_tz": 300
    },
    "id": "7x3XW8IzzOb4",
    "outputId": "0c7f0940-7302-4bad-9f19-9ec6d299f9a7"
   },
   "outputs": [
    {
     "data": {
      "text/plain": [
       "7844.524020000001"
      ]
     },
     "execution_count": 6,
     "metadata": {},
     "output_type": "execute_result"
    }
   ],
   "source": [
    "np.multiply(c,plan).sum()"
   ]
  },
  {
   "cell_type": "code",
   "execution_count": 7,
   "id": "e3e7ba51",
   "metadata": {
    "executionInfo": {
     "elapsed": 2218,
     "status": "ok",
     "timestamp": 1643591984543,
     "user": {
      "displayName": "Kenny Lee",
      "photoUrl": "https://lh3.googleusercontent.com/a-/AOh14GgNabW3-ohUeW38s6sdmGhRyGH-xwMSApS2t2hv=s64",
      "userId": "17157037697518270092"
     },
     "user_tz": 300
    },
    "id": "e3e7ba51",
    "scrolled": true
   },
   "outputs": [],
   "source": [
    "#define penalty function for both row and column\n",
    "#input: cost matrix, output: column penalty, row penalty\n",
    "def penalty(c):\n",
    "    #deep copy cost matrix\n",
    "    col_rank = np.copy(c)\n",
    "    row_rank = np.copy(c)\n",
    "    #sort cost matrix by row and column separately\n",
    "    col_rank.sort(axis=0)\n",
    "    row_rank.sort(axis=1)\n",
    "    #compute difference between lowest cost to the second lowest\n",
    "    penalty_col = row_rank[:,1] - row_rank[:,0]\n",
    "    penalty_row = col_rank[1,:] - col_rank[0,:]\n",
    "    #change all nan value to zero\n",
    "    penalty_col = np.nan_to_num(penalty_col)\n",
    "    penalty_row = np.nan_to_num(penalty_row)\n",
    "    #exlude penalty too large, happen when cost function mapped to infinity\n",
    "    penalty_col[penalty_col > 1000] = 0\n",
    "    penalty_row[penalty_row > 1000] = 0\n",
    "    \n",
    "    return penalty_col, penalty_row"
   ]
  },
  {
   "cell_type": "code",
   "execution_count": 8,
   "id": "18adbee5",
   "metadata": {
    "executionInfo": {
     "elapsed": 3,
     "status": "ok",
     "timestamp": 1643591992075,
     "user": {
      "displayName": "Kenny Lee",
      "photoUrl": "https://lh3.googleusercontent.com/a-/AOh14GgNabW3-ohUeW38s6sdmGhRyGH-xwMSApS2t2hv=s64",
      "userId": "17157037697518270092"
     },
     "user_tz": 300
    },
    "id": "18adbee5"
   },
   "outputs": [],
   "source": [
    "#find the best transaction location based on penalty\n",
    "def find_location(c, penalty_col, penalty_row):\n",
    "    #row penalty larger than column, search for lowest cost in the column\n",
    "    if np.max(penalty_row) > np.max(penalty_col):\n",
    "        best_buyer = np.argmax(penalty_row)\n",
    "        supply_list = c[:,best_buyer]\n",
    "        best_supplier = np.argmin(supply_list)\n",
    "    #column penalty larger than row, search for lowest cost in the row\n",
    "    elif np.max(penalty_row) < np.max(penalty_col):\n",
    "        best_supplier = np.argmax(penalty_col)\n",
    "        demand_list = c[best_supplier,:]\n",
    "        best_buyer = np.argmin(demand_list)\n",
    "    #tie breaker, randomize row/column picked, not happened in this assignment\n",
    "    elif np.max(penalty_row) == np.max(penalty_col) and random.choice([0,1]) == 0:\n",
    "        best_buyer = np.argmax(penalty_row)\n",
    "        supply_list = c[:,best_buyer]\n",
    "        best_supplier = np.argmin(supply_list)\n",
    "    elif np.max(penalty_row) == np.max(penalty_col) and random.choice([0,1]) == 1:\n",
    "        best_supplier = np.argmax(penalty_col)\n",
    "        demand_list = c[best_supplier,:]\n",
    "        best_buyer = np.argmin(demand_list)\n",
    "    return best_supplier, best_buyer"
   ]
  },
  {
   "cell_type": "code",
   "execution_count": 9,
   "id": "820fab46",
   "metadata": {
    "executionInfo": {
     "elapsed": 3,
     "status": "ok",
     "timestamp": 1643591994892,
     "user": {
      "displayName": "Kenny Lee",
      "photoUrl": "https://lh3.googleusercontent.com/a-/AOh14GgNabW3-ohUeW38s6sdmGhRyGH-xwMSApS2t2hv=s64",
      "userId": "17157037697518270092"
     },
     "user_tz": 300
    },
    "id": "820fab46"
   },
   "outputs": [],
   "source": [
    "#complete transaction and update cost, demand, supply information, cache transaction history\n",
    "def locate_resource(c, best_supplier, best_buyer, stock, demand, transaction):\n",
    "    #more stock than demand, satisfy all demand\n",
    "    if stock[best_supplier] > demand[best_buyer]:\n",
    "        item = demand[best_buyer]\n",
    "        c[:, best_buyer] = np.inf\n",
    "    else:\n",
    "    #more demand than stock, exhaust all stock\n",
    "        item = stock[best_supplier]\n",
    "        c[best_supplier, :] = np.inf\n",
    "    #update all item in stock, demand, transaction\n",
    "    stock[best_supplier] -= item\n",
    "    demand[best_buyer] -= item\n",
    "    transaction[best_supplier, best_buyer] += item\n",
    "    return c, stock, demand, transaction"
   ]
  },
  {
   "cell_type": "code",
   "execution_count": 10,
   "id": "77bcbb29",
   "metadata": {
    "executionInfo": {
     "elapsed": 1165,
     "status": "ok",
     "timestamp": 1643591996613,
     "user": {
      "displayName": "Kenny Lee",
      "photoUrl": "https://lh3.googleusercontent.com/a-/AOh14GgNabW3-ohUeW38s6sdmGhRyGH-xwMSApS2t2hv=s64",
      "userId": "17157037697518270092"
     },
     "user_tz": 300
    },
    "id": "77bcbb29"
   },
   "outputs": [],
   "source": [
    "def vam(c, stock, demand):\n",
    "    #copy all information, do not want to change original input\n",
    "    c_copy = np.copy(c)\n",
    "    stock_copy = np.copy(stock)\n",
    "    demand_copy = np.copy(demand)\n",
    "    #initialize transaction history    \n",
    "    transaction = np.zeros((len(stock),len(demand)))\n",
    "    print(stock_copy)\n",
    "    print(demand_copy)\n",
    "    #while loop as long as demand is not satisfied\n",
    "    #if stock is smaller than demand, break from loop\n",
    "    while np.max(demand_copy) > 0:\n",
    "        if np.sum(stock) < np.sum(demand):\n",
    "          print('Not enought resourses')\n",
    "          break\n",
    "        penalty_demand, penalty_supply = penalty(c_copy)\n",
    "        best_supplier, best_buyer = find_location(c_copy, penalty_demand, penalty_supply)\n",
    "        c_copy, stock_copy, demand_copy, transaction = locate_resource(c_copy,\n",
    "                                                               best_supplier, best_buyer, \n",
    "                                                               stock_copy, demand_copy, transaction)\n",
    "        if np.sort(stock_copy)[-2] == 0 and np.sort(demand_copy)[-2] == 0:\n",
    "            item = np.max(demand_copy)\n",
    "            best_buyer = np.argmax(demand_copy)\n",
    "            best_supplier = np.argmax(stock_copy)\n",
    "            stock_copy[best_supplier] -= item\n",
    "            demand_copy[best_buyer] -= item\n",
    "            transaction[best_supplier, best_buyer] += item\n",
    "        print('Transaction Pair:')\n",
    "        print(best_supplier, best_buyer)\n",
    "        print(stock_copy)\n",
    "        print(demand_copy)\n",
    "    #print transation history\n",
    "    print(transaction)\n",
    "    total_cost = np.multiply(c,transaction).sum()\n",
    "    return total_cost"
   ]
  },
  {
   "cell_type": "code",
   "execution_count": 11,
   "id": "0bb883b9",
   "metadata": {
    "colab": {
     "base_uri": "https://localhost:8080/"
    },
    "executionInfo": {
     "elapsed": 3,
     "status": "ok",
     "timestamp": 1643592000419,
     "user": {
      "displayName": "Kenny Lee",
      "photoUrl": "https://lh3.googleusercontent.com/a-/AOh14GgNabW3-ohUeW38s6sdmGhRyGH-xwMSApS2t2hv=s64",
      "userId": "17157037697518270092"
     },
     "user_tz": 300
    },
    "id": "0bb883b9",
    "outputId": "c47a7840-7068-468a-83e1-2b84e2c8be22"
   },
   "outputs": [
    {
     "name": "stdout",
     "output_type": "stream",
     "text": [
      "[22.   3.7  4.5 47.  18.5  5. ]\n",
      "[ 3.   2.6 16.  20.  26.4 11.9]\n",
      "Transaction Pair:\n",
      "0 0\n",
      "[19.   3.7  4.5 47.  18.5  5. ]\n",
      "[ 0.   2.6 16.  20.  26.4 11.9]\n",
      "Transaction Pair:\n",
      "3 3\n",
      "[19.   3.7  4.5 27.  18.5  5. ]\n",
      "[ 0.   2.6 16.   0.  26.4 11.9]\n",
      "Transaction Pair:\n",
      "3 5\n",
      "[19.   3.7  4.5 15.1 18.5  5. ]\n",
      "[ 0.   2.6 16.   0.  26.4  0. ]\n",
      "Transaction Pair:\n",
      "2 2\n",
      "[19.   3.7  0.  15.1 18.5  5. ]\n",
      "[ 0.   2.6 11.5  0.  26.4  0. ]\n",
      "Transaction Pair:\n",
      "3 2\n",
      "[19.   3.7  0.   3.6 18.5  5. ]\n",
      "[ 0.   2.6  0.   0.  26.4  0. ]\n",
      "Transaction Pair:\n",
      "1 1\n",
      "[19.   1.1  0.   3.6 18.5  5. ]\n",
      "[ 0.   0.   0.   0.  26.4  0. ]\n",
      "Transaction Pair:\n",
      "3 4\n",
      "[19.   1.1  0.   0.  18.5  5. ]\n",
      "[ 0.   0.   0.   0.  22.8  0. ]\n",
      "Transaction Pair:\n",
      "4 4\n",
      "[19.   1.1  0.   0.   0.   5. ]\n",
      "[0.  0.  0.  0.  4.3 0. ]\n",
      "Transaction Pair:\n",
      "1 4\n",
      "[19.  0.  0.  0.  0.  5.]\n",
      "[0.  0.  0.  0.  3.2 0. ]\n",
      "Transaction Pair:\n",
      "0 4\n",
      "[15.8  0.   0.   0.   0.   5. ]\n",
      "[0. 0. 0. 0. 0. 0.]\n",
      "[[ 3.   0.   0.   0.   3.2  0. ]\n",
      " [ 0.   2.6  0.   0.   1.1  0. ]\n",
      " [ 0.   0.   4.5  0.   0.   0. ]\n",
      " [ 0.   0.  11.5 20.   3.6 11.9]\n",
      " [ 0.   0.   0.   0.  18.5  0. ]\n",
      " [ 0.   0.   0.   0.   0.   0. ]]\n"
     ]
    },
    {
     "data": {
      "text/plain": [
       "7409.026435"
      ]
     },
     "execution_count": 11,
     "metadata": {},
     "output_type": "execute_result"
    }
   ],
   "source": [
    "total_cost = vam(c, stock, demand)\n",
    "total_cost"
   ]
  },
  {
   "cell_type": "code",
   "execution_count": 12,
   "id": "1dac9328",
   "metadata": {
    "colab": {
     "base_uri": "https://localhost:8080/"
    },
    "executionInfo": {
     "elapsed": 675,
     "status": "ok",
     "timestamp": 1643592010727,
     "user": {
      "displayName": "Kenny Lee",
      "photoUrl": "https://lh3.googleusercontent.com/a-/AOh14GgNabW3-ohUeW38s6sdmGhRyGH-xwMSApS2t2hv=s64",
      "userId": "17157037697518270092"
     },
     "user_tz": 300
    },
    "id": "1dac9328",
    "outputId": "36719da5-d3e1-480a-f0bd-3a2b30fecc71"
   },
   "outputs": [
    {
     "name": "stdout",
     "output_type": "stream",
     "text": [
      "[18.7    3.145  3.825 39.95  15.725  4.25 ]\n",
      "[ 3.   2.6 16.  20.  26.4 11.9]\n",
      "Transaction Pair:\n",
      "0 0\n",
      "[15.7    3.145  3.825 39.95  15.725  4.25 ]\n",
      "[ 0.   2.6 16.  20.  26.4 11.9]\n",
      "Transaction Pair:\n",
      "3 3\n",
      "[15.7    3.145  3.825 19.95  15.725  4.25 ]\n",
      "[ 0.   2.6 16.   0.  26.4 11.9]\n",
      "Transaction Pair:\n",
      "3 5\n",
      "[15.7    3.145  3.825  8.05  15.725  4.25 ]\n",
      "[ 0.   2.6 16.   0.  26.4  0. ]\n",
      "Transaction Pair:\n",
      "2 2\n",
      "[15.7    3.145  0.     8.05  15.725  4.25 ]\n",
      "[ 0.     2.6   12.175  0.    26.4    0.   ]\n",
      "Transaction Pair:\n",
      "3 2\n",
      "[15.7    3.145  0.     0.    15.725  4.25 ]\n",
      "[ 0.     2.6    4.125  0.    26.4    0.   ]\n",
      "Transaction Pair:\n",
      "4 4\n",
      "[15.7    3.145  0.     0.     0.     4.25 ]\n",
      "[ 0.     2.6    4.125  0.    10.675  0.   ]\n",
      "Transaction Pair:\n",
      "1 1\n",
      "[15.7    0.545  0.     0.     0.     4.25 ]\n",
      "[ 0.     0.     4.125  0.    10.675  0.   ]\n",
      "Transaction Pair:\n",
      "5 4\n",
      "[15.7    0.545  0.     0.     0.     0.   ]\n",
      "[0.    0.    4.125 0.    6.425 0.   ]\n",
      "Transaction Pair:\n",
      "1 4\n",
      "[15.7  0.   0.   0.   0.   0. ]\n",
      "[0.    0.    4.125 0.    5.88  0.   ]\n",
      "Transaction Pair:\n",
      "0 2\n",
      "[5.695 0.    0.    0.    0.    0.   ]\n",
      "[0. 0. 0. 0. 0. 0.]\n",
      "[[ 3.     0.     4.125  0.     5.88   0.   ]\n",
      " [ 0.     2.6    0.     0.     0.545  0.   ]\n",
      " [ 0.     0.     3.825  0.     0.     0.   ]\n",
      " [ 0.     0.     8.05  20.     0.    11.9  ]\n",
      " [ 0.     0.     0.     0.    15.725  0.   ]\n",
      " [ 0.     0.     0.     0.     4.25   0.   ]]\n"
     ]
    },
    {
     "data": {
      "text/plain": [
       "7898.51353925"
      ]
     },
     "execution_count": 12,
     "metadata": {},
     "output_type": "execute_result"
    }
   ],
   "source": [
    "total_cost_85 = vam(c, stock*0.85, demand)\n",
    "total_cost_85"
   ]
  },
  {
   "cell_type": "code",
   "execution_count": 13,
   "id": "52d94e38",
   "metadata": {
    "colab": {
     "base_uri": "https://localhost:8080/"
    },
    "executionInfo": {
     "elapsed": 4,
     "status": "ok",
     "timestamp": 1643592013415,
     "user": {
      "displayName": "Kenny Lee",
      "photoUrl": "https://lh3.googleusercontent.com/a-/AOh14GgNabW3-ohUeW38s6sdmGhRyGH-xwMSApS2t2hv=s64",
      "userId": "17157037697518270092"
     },
     "user_tz": 300
    },
    "id": "52d94e38",
    "outputId": "5390a68d-4426-4c6c-addf-0d84776f24e5"
   },
   "outputs": [
    {
     "name": "stdout",
     "output_type": "stream",
     "text": [
      "[22.   3.7  0.  47.  18.5  5. ]\n",
      "[ 3.   2.6 16.  20.  26.4 11.9]\n",
      "Transaction Pair:\n",
      "0 0\n",
      "[19.   3.7  0.  47.  18.5  5. ]\n",
      "[ 0.   2.6 16.  20.  26.4 11.9]\n",
      "Transaction Pair:\n",
      "3 3\n",
      "[19.   3.7  0.  27.  18.5  5. ]\n",
      "[ 0.   2.6 16.   0.  26.4 11.9]\n",
      "Transaction Pair:\n",
      "3 5\n",
      "[19.   3.7  0.  15.1 18.5  5. ]\n",
      "[ 0.   2.6 16.   0.  26.4  0. ]\n",
      "Transaction Pair:\n",
      "2 2\n",
      "[19.   3.7  0.  15.1 18.5  5. ]\n",
      "[ 0.   2.6 16.   0.  26.4  0. ]\n",
      "Transaction Pair:\n",
      "3 2\n",
      "[19.   3.7  0.   0.  18.5  5. ]\n",
      "[ 0.   2.6  0.9  0.  26.4  0. ]\n",
      "Transaction Pair:\n",
      "4 4\n",
      "[19.   3.7  0.   0.   0.   5. ]\n",
      "[0.  2.6 0.9 0.  7.9 0. ]\n",
      "Transaction Pair:\n",
      "1 1\n",
      "[19.   1.1  0.   0.   0.   5. ]\n",
      "[0.  0.  0.9 0.  7.9 0. ]\n",
      "Transaction Pair:\n",
      "5 4\n",
      "[19.   1.1  0.   0.   0.   0. ]\n",
      "[0.  0.  0.9 0.  2.9 0. ]\n",
      "Transaction Pair:\n",
      "1 4\n",
      "[19.  0.  0.  0.  0.  0.]\n",
      "[0.  0.  0.9 0.  1.8 0. ]\n",
      "Transaction Pair:\n",
      "0 2\n",
      "[16.3  0.   0.   0.   0.   0. ]\n",
      "[0. 0. 0. 0. 0. 0.]\n",
      "[[ 3.   0.   0.9  0.   1.8  0. ]\n",
      " [ 0.   2.6  0.   0.   1.1  0. ]\n",
      " [ 0.   0.   0.   0.   0.   0. ]\n",
      " [ 0.   0.  15.1 20.   0.  11.9]\n",
      " [ 0.   0.   0.   0.  18.5  0. ]\n",
      " [ 0.   0.   0.   0.   5.   0. ]]\n"
     ]
    },
    {
     "data": {
      "text/plain": [
       "7853.654165"
      ]
     },
     "execution_count": 13,
     "metadata": {},
     "output_type": "execute_result"
    }
   ],
   "source": [
    "stock_wo_chile = np.array([22.0, 3.7, 0, 47.0, 18.5, 5.0])\n",
    "total_cost_wo_chile = vam(c, stock_wo_chile, demand)\n",
    "total_cost_wo_chile"
   ]
  },
  {
   "cell_type": "code",
   "execution_count": 14,
   "id": "e5fa394e",
   "metadata": {
    "colab": {
     "base_uri": "https://localhost:8080/"
    },
    "executionInfo": {
     "elapsed": 9,
     "status": "ok",
     "timestamp": 1643592018685,
     "user": {
      "displayName": "Kenny Lee",
      "photoUrl": "https://lh3.googleusercontent.com/a-/AOh14GgNabW3-ohUeW38s6sdmGhRyGH-xwMSApS2t2hv=s64",
      "userId": "17157037697518270092"
     },
     "user_tz": 300
    },
    "id": "e5fa394e",
    "outputId": "d040bfdc-6255-411f-b97d-ed391ad9f42e"
   },
   "outputs": [
    {
     "name": "stdout",
     "output_type": "stream",
     "text": [
      "[18.7    3.145  0.    39.95  15.725  4.25 ]\n",
      "[ 3.   2.6 16.  20.  26.4 11.9]\n",
      "Transaction Pair:\n",
      "0 0\n",
      "[15.7    3.145  0.    39.95  15.725  4.25 ]\n",
      "[ 0.   2.6 16.  20.  26.4 11.9]\n",
      "Transaction Pair:\n",
      "3 3\n",
      "[15.7    3.145  0.    19.95  15.725  4.25 ]\n",
      "[ 0.   2.6 16.   0.  26.4 11.9]\n",
      "Transaction Pair:\n",
      "3 5\n",
      "[15.7    3.145  0.     8.05  15.725  4.25 ]\n",
      "[ 0.   2.6 16.   0.  26.4  0. ]\n",
      "Transaction Pair:\n",
      "2 2\n",
      "[15.7    3.145  0.     8.05  15.725  4.25 ]\n",
      "[ 0.   2.6 16.   0.  26.4  0. ]\n",
      "Transaction Pair:\n",
      "3 2\n",
      "[15.7    3.145  0.     0.    15.725  4.25 ]\n",
      "[ 0.    2.6   7.95  0.   26.4   0.  ]\n",
      "Transaction Pair:\n",
      "4 4\n",
      "[15.7    3.145  0.     0.     0.     4.25 ]\n",
      "[ 0.     2.6    7.95   0.    10.675  0.   ]\n",
      "Transaction Pair:\n",
      "1 1\n",
      "[15.7    0.545  0.     0.     0.     4.25 ]\n",
      "[ 0.     0.     7.95   0.    10.675  0.   ]\n",
      "Transaction Pair:\n",
      "5 4\n",
      "[15.7    0.545  0.     0.     0.     0.   ]\n",
      "[0.    0.    7.95  0.    6.425 0.   ]\n",
      "Transaction Pair:\n",
      "1 4\n",
      "[15.7  0.   0.   0.   0.   0. ]\n",
      "[0.   0.   7.95 0.   5.88 0.  ]\n",
      "Transaction Pair:\n",
      "0 2\n",
      "[1.87 0.   0.   0.   0.   0.  ]\n",
      "[0. 0. 0. 0. 0. 0.]\n",
      "[[ 3.     0.     7.95   0.     5.88   0.   ]\n",
      " [ 0.     2.6    0.     0.     0.545  0.   ]\n",
      " [ 0.     0.     0.     0.     0.     0.   ]\n",
      " [ 0.     0.     8.05  20.     0.    11.9  ]\n",
      " [ 0.     0.     0.     0.    15.725  0.   ]\n",
      " [ 0.     0.     0.     0.     4.25   0.   ]]\n"
     ]
    },
    {
     "data": {
      "text/plain": [
       "8027.16741425"
      ]
     },
     "execution_count": 14,
     "metadata": {},
     "output_type": "execute_result"
    }
   ],
   "source": [
    "total_cost_85_wo_chile = vam(c, stock_wo_chile*0.85, demand)\n",
    "total_cost_85_wo_chile"
   ]
  }
 ],
 "metadata": {
  "colab": {
   "name": "Decision Analytics VAM.ipynb",
   "provenance": []
  },
  "kernelspec": {
   "display_name": "Python 3",
   "language": "python",
   "name": "python3"
  },
  "language_info": {
   "codemirror_mode": {
    "name": "ipython",
    "version": 3
   },
   "file_extension": ".py",
   "mimetype": "text/x-python",
   "name": "python",
   "nbconvert_exporter": "python",
   "pygments_lexer": "ipython3",
   "version": "3.8.8"
  }
 },
 "nbformat": 4,
 "nbformat_minor": 5
}
